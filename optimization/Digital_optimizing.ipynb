{
  "nbformat": 4,
  "nbformat_minor": 0,
  "metadata": {
    "colab": {
      "name": "Digital_optimizing.ipynb",
      "provenance": [],
      "collapsed_sections": []
    },
    "kernelspec": {
      "name": "python3",
      "display_name": "Python 3"
    },
    "language_info": {
      "name": "python"
    }
  },
  "cells": [
    {
      "cell_type": "markdown",
      "metadata": {
        "id": "ZNvjCLiZ-BnD"
      },
      "source": [
        "Первым делом надо сделать установку **ortools**. Сделать это достаточно просто, нужно просто раскомментировать строчку ниже и запустить ее. После ее отработки, скорее всего, понадобится перезапустить ноутбук. **Среда выполнения -> Перезапустить среду выполнения.(или Ctrl+M)**"
      ]
    },
    {
      "cell_type": "code",
      "metadata": {
        "id": "eAVmgwyZgkmS"
      },
      "source": [
        "# !pip install ortools"
      ],
      "execution_count": null,
      "outputs": []
    },
    {
      "cell_type": "code",
      "metadata": {
        "id": "of8TQijggqtj"
      },
      "source": [
        "from ortools.constraint_solver import routing_enums_pb2\n",
        "from ortools.constraint_solver import pywrapcp\n"
      ],
      "execution_count": null,
      "outputs": []
    },
    {
      "cell_type": "code",
      "metadata": {
        "id": "TZzwL23kHrLo"
      },
      "source": [
        "# Cоздаем класс Plan для более удобной работы с результатом отработки OR-Tools\n",
        "class Plan:\n",
        "  def __init__(self):\n",
        "    self.path = []\n",
        "    self.distance = None\n",
        "    self.load = None\n",
        "    self.output = {}\n",
        "    self.output['path'] = []\n",
        "    "
      ],
      "execution_count": null,
      "outputs": []
    },
    {
      "cell_type": "code",
      "metadata": {
        "id": "8JC1QPftnsoe"
      },
      "source": [
        "# В этой ячейке надо здать координаты расположения камеры\n",
        "almtvsk_cams_coords = [(54.902532, 52.289729), # 0 - Белоглазова 131\n",
        "                     (54.900249, 52.287286), # 1 - Белоглазова 151\n",
        "                     (54.905891, 52.270927), # 3 - Гафиатуллина 29Б\n",
        "                     (54.906383, 52.266427), # 4 - улица Гафиатуллина, 39\n",
        "                     (54.905829, 52.264387), # 5 - улица Гафиатуллина, 45\n",
        "                     (54.906518, 52.263822), # 6 - улица Гафиатуллина, 47\n",
        "                     (54.906518, 52.263822), # 7 - улица Гафиатуллина, 47\n",
        "                     (54.900078, 52.290205), # 10 - улица Ленина, 66\n",
        "                     (54.898670, 52.285722), # 11 - улица Ленина, 90\n",
        "                     (54.896071, 52.288390), # 12 - улица Шевченко, 80\n",
        "                     (54.900777, 52.267460), # 14 - проспект Строителей, 20Б\n",
        "                     (54.902294, 52.270047), # 15 - проспект Строителей, 20(тут фото с камеры обрезано, мб это не тот дом)\n",
        "]"
      ],
      "execution_count": null,
      "outputs": []
    },
    {
      "cell_type": "code",
      "metadata": {
        "id": "po8Ztc2ktrgB"
      },
      "source": [
        "# Задаем кол-во(в у.е, по-нашему, тут задается оценочное значение в литрах или в кг) мусора на точке\n",
        "# В MVP данный массив является результатом работы сетки\n",
        "almtvsk_demands = [0, 5,3,6,8,4,9,5,7,3,6,16]"
      ],
      "execution_count": null,
      "outputs": []
    },
    {
      "cell_type": "code",
      "metadata": {
        "colab": {
          "base_uri": "https://localhost:8080/"
        },
        "id": "0uzepgfGtTMZ",
        "outputId": "9bc4fac3-25c7-4d84-ad38-e5d2a29727c5"
      },
      "source": [
        "# Задаем входные данные\n",
        "almtvsk_data = {} # пустой словарик\n",
        "almtvsk_data['num_vehicles'] = 4 # кол-во автомобилей в автопарке\n",
        "almtvsk_data['depot'] = 0 # номер точки, из которой мы стартуем\n",
        "almtvsk_data['demands'] = almtvsk_demands # кол-во мусора на точках\n",
        "almtvsk_data['vehicle_capacities'] = [15, 15, 15, 15] # вместимость автомобилей(в тех же у.е., что и demands)\n",
        "almtvsk_data # отображаем"
      ],
      "execution_count": null,
      "outputs": [
        {
          "output_type": "execute_result",
          "data": {
            "text/plain": [
              "{'demands': [0, 5, 3, 6, 8, 4, 9, 5, 7, 3, 6, 16],\n",
              " 'depot': 0,\n",
              " 'num_vehicles': 4,\n",
              " 'vehicle_capacities': [15, 15, 15, 15]}"
            ]
          },
          "metadata": {},
          "execution_count": 303
        }
      ]
    },
    {
      "cell_type": "code",
      "metadata": {
        "id": "tw0PIXvSOnFR"
      },
      "source": [
        "# Функция отображения полученного решения\n",
        "def print_solution(almtvsk_data, manager, routing, solution):\n",
        "    \"\"\"Prints solution on console.\"\"\"\n",
        "    print(f'Objective: {solution.ObjectiveValue()}')\n",
        "    # Display dropped nodes.\n",
        "    dropped_nodes = 'Dropped nodes:'\n",
        "    for node in range(routing.Size()):\n",
        "        if routing.IsStart(node) or routing.IsEnd(node):\n",
        "            continue\n",
        "        if solution.Value(routing.NextVar(node)) == node:\n",
        "            dropped_nodes += ' {}'.format(manager.IndexToNode(node))\n",
        "    print(dropped_nodes)\n",
        "    total_distance = 0\n",
        "    total_load = 0\n",
        "    all_plans = []\n",
        "    output_constants = ['lat', 'lon']\n",
        "    for vehicle_id in range(almtvsk_data['num_vehicles']):\n",
        "        plan = Plan()\n",
        "        index = routing.Start(vehicle_id)\n",
        "        plan_output = 'Route for vehicle {}:\\n'.format(vehicle_id)\n",
        "        route_distance = 0\n",
        "        route_load = 0\n",
        "        while not routing.IsEnd(index):\n",
        "            node_index = manager.IndexToNode(index)\n",
        "            route_load += almtvsk_data['demands'][node_index]\n",
        "            plan_output += ' {0} Load({1}) -> '.format(node_index, route_load)\n",
        "            plan.path.append((node_index, route_load))\n",
        "            plan.output['path'].append({output_constants[i]: almtvsk_kams_coords[node_index][i] for i in (0,1)})\n",
        "            previous_index = index\n",
        "            index = solution.Value(routing.NextVar(index))\n",
        "            route_distance += routing.GetArcCostForVehicle(\n",
        "                previous_index, index, vehicle_id)\n",
        "        plan_output += ' {0} Load({1})\\n'.format(manager.IndexToNode(index),\n",
        "                                                 route_load)\n",
        "        plan_output += 'Distance of the route: {}m\\n'.format(route_distance)\n",
        "        plan_output += 'Load of the route: {}\\n'.format(route_load)\n",
        "        print(plan_output)\n",
        "        plan.path.append((manager.IndexToNode(index), route_load))\n",
        "        plan.output['path'].append({output_constants[i]: almtvsk_kams_coords[manager.IndexToNode(index)][i] for i in (0,1)})\n",
        "        plan.distance = route_distance\n",
        "        plan.load = route_load\n",
        "        all_plans.append(plan)\n",
        "        for i,res in enumerate(all_plans):\n",
        "          all_plans[i].output['path'] = str(res.output['path']).replace('},',\"};\").replace(']',\"\").replace('[',\"\").replace(\" \",\"\")\n",
        "        total_distance += route_distance\n",
        "        total_load += route_load\n",
        "    print('Total distance of all routes: {}m'.format(total_distance))\n",
        "    print('Total load of all routes: {}'.format(total_load))\n",
        "    return all_plans"
      ],
      "execution_count": null,
      "outputs": []
    },
    {
      "cell_type": "code",
      "metadata": {
        "id": "vleFqqlEirE6"
      },
      "source": [
        "import numpy as np\n",
        "# Вспомогательная функция построения матрицы расстояний по вектору координат\n",
        "def form_distance_matrix(coordinates):\n",
        "    X = np.array(coordinates)\n",
        "    distance_matrix = np.zeros((len(coordinates), len(coordinates)))\n",
        "    # distance_matrix = np.sqrt(np.sum((X[:,np.newaxis]-X)**2,axis=2)) # эвклидово растояние\n",
        "    distance_matrix = np.sum(abs(X[:,np.newaxis]-X),axis=2) # Манхэтанская\n",
        "    return distance_matrix"
      ],
      "execution_count": null,
      "outputs": []
    },
    {
      "cell_type": "code",
      "metadata": {
        "id": "mQDleQDIqaIq"
      },
      "source": [
        "# Еще одна вспомогательная функция, отображает матрицу numpy в массив массивов\n",
        "def np_to_list(arr):\n",
        "  return [[arr[i,j] for j in range(len(arr[0]))] for i in range(len(arr))]"
      ],
      "execution_count": null,
      "outputs": []
    },
    {
      "cell_type": "code",
      "metadata": {
        "id": "7D_af2UuhOR2"
      },
      "source": [
        "# Ячейчка, в которой решается оптимизационная задача. По сути, здесь происходят \n",
        "# необходимые вызовы из OR - Tools\n",
        "def solver():\n",
        "  def demand_callback(from_index):\n",
        "    \"\"\"Returns the demand of the node.\"\"\"\n",
        "    # Convert from routing variable Index to demands NodeIndex.\n",
        "    from_node = manager.IndexToNode(from_index)\n",
        "    return almtvsk_data['demands'][from_node]\n",
        "\n",
        "  def distance_callback(from_index, to_index):\n",
        "    \"\"\"Returns the distance between the two nodes.\"\"\"\n",
        "    # Convert from routing variable Index to distance matrix NodeIndex.\n",
        "    from_node = manager.IndexToNode(from_index)\n",
        "    to_node = manager.IndexToNode(to_index)\n",
        "    return almtvsk_data['distance_matrix'][from_node][to_node]\n",
        "\n",
        "    # Instantiate the data problem.\n",
        "  almtvsk_data['distance_matrix'] = np_to_list(form_distance_matrix(almtvsk_cams_coords))\n",
        "\n",
        "\n",
        "    # Create the routing index manager.\n",
        "  manager = pywrapcp.RoutingIndexManager(len(almtvsk_data['distance_matrix']),\n",
        "                                           almtvsk_data['num_vehicles'], almtvsk_data['depot'])\n",
        "\n",
        "    # Create Routing Model.\n",
        "  routing = pywrapcp.RoutingModel(manager)\n",
        "\n",
        "\n",
        "    # Create and register a transit callback.\n",
        "\n",
        "  transit_callback_index = routing.RegisterTransitCallback(distance_callback)\n",
        "\n",
        "    # Define cost of each arc.\n",
        "  routing.SetArcCostEvaluatorOfAllVehicles(transit_callback_index)\n",
        "\n",
        "\n",
        "    # Add Capacity constraint.\n",
        "  demand_callback_index = routing.RegisterUnaryTransitCallback(\n",
        "        demand_callback)\n",
        "  routing.AddDimensionWithVehicleCapacity(\n",
        "        demand_callback_index,\n",
        "        0,  # null capacity slack\n",
        "        almtvsk_data['vehicle_capacities'],  # vehicle maximum capacities\n",
        "        True,  # start cumul to zero\n",
        "        'Capacity')\n",
        "  # Allow to drop nodes.\n",
        "  penalty = 1000\n",
        "  for node in range(1, len(almtvsk_data['distance_matrix'])):\n",
        "      routing.AddDisjunction([manager.NodeToIndex(node)], penalty)\n",
        "\n",
        "    # Setting first solution heuristic.\n",
        "  search_parameters = pywrapcp.DefaultRoutingSearchParameters()\n",
        "  search_parameters.first_solution_strategy = (\n",
        "        routing_enums_pb2.FirstSolutionStrategy.PATH_CHEAPEST_ARC)\n",
        "  search_parameters.local_search_metaheuristic = (\n",
        "        routing_enums_pb2.LocalSearchMetaheuristic.GUIDED_LOCAL_SEARCH)\n",
        "  search_parameters.time_limit.FromSeconds(1)\n",
        "\n",
        "    # Solve the problem.\n",
        "  solution = routing.SolveWithParameters(search_parameters)\n",
        "\n",
        "    # Print solution on console.\n",
        "  if solution:\n",
        "      return print_solution(almtvsk_data, manager, routing, solution)\n",
        "  else:\n",
        "    print(\"No solution found\")"
      ],
      "execution_count": null,
      "outputs": []
    },
    {
      "cell_type": "markdown",
      "metadata": {
        "id": "LnF-qSXQiokd"
      },
      "source": [
        "Sample text"
      ]
    },
    {
      "cell_type": "code",
      "metadata": {
        "colab": {
          "base_uri": "https://localhost:8080/"
        },
        "id": "Z8dGP8wKuMOF",
        "outputId": "95bbcb00-81ed-4bbb-a71f-fb88c54afabf"
      },
      "source": [
        "# Решаем задачу\n",
        "almtvsk_result = solver()\n"
      ],
      "execution_count": null,
      "outputs": [
        {
          "output_type": "stream",
          "name": "stdout",
          "text": [
            "Objective: 1000\n",
            "Dropped nodes: 11\n",
            "Route for vehicle 0:\n",
            " 0 Load(0) ->  4 Load(8) ->  1 Load(13) ->  0 Load(13)\n",
            "Distance of the route: 0m\n",
            "Load of the route: 13\n",
            "\n",
            "Route for vehicle 1:\n",
            " 0 Load(0) ->  6 Load(9) ->  3 Load(15) ->  0 Load(15)\n",
            "Distance of the route: 0m\n",
            "Load of the route: 15\n",
            "\n",
            "Route for vehicle 2:\n",
            " 0 Load(0) ->  8 Load(7) ->  5 Load(11) ->  2 Load(14) ->  0 Load(14)\n",
            "Distance of the route: 0m\n",
            "Load of the route: 14\n",
            "\n",
            "Route for vehicle 3:\n",
            " 0 Load(0) ->  10 Load(6) ->  9 Load(9) ->  7 Load(14) ->  0 Load(14)\n",
            "Distance of the route: 0m\n",
            "Load of the route: 14\n",
            "\n",
            "Total distance of all routes: 0m\n",
            "Total load of all routes: 56\n"
          ]
        }
      ]
    },
    {
      "cell_type": "code",
      "metadata": {
        "colab": {
          "base_uri": "https://localhost:8080/"
        },
        "id": "O1YgbxuTuSaX",
        "outputId": "0082c182-e627-4b28-996e-b7565ab5a606"
      },
      "source": [
        "# Информация, которая передается в БД бота для дальнейшей обработки\n",
        "for res in almtvsk_result:\n",
        "  print(res.output['path'])\n"
      ],
      "execution_count": null,
      "outputs": [
        {
          "output_type": "stream",
          "name": "stdout",
          "text": [
            "{'lat':54.902532,'lon':52.289729};{'lat':54.905829,'lon':52.264387};{'lat':54.900249,'lon':52.287286};{'lat':54.902532,'lon':52.289729}\n",
            "{'lat':54.902532,'lon':52.289729};{'lat':54.906518,'lon':52.263822};{'lat':54.906383,'lon':52.266427};{'lat':54.902532,'lon':52.289729}\n",
            "{'lat':54.902532,'lon':52.289729};{'lat':54.89867,'lon':52.285722};{'lat':54.906518,'lon':52.263822};{'lat':54.905891,'lon':52.270927};{'lat':54.902532,'lon':52.289729}\n",
            "{'lat':54.902532,'lon':52.289729};{'lat':54.900777,'lon':52.26746};{'lat':54.896071,'lon':52.28839};{'lat':54.900078,'lon':52.290205};{'lat':54.902532,'lon':52.289729}\n"
          ]
        }
      ]
    }
  ]
}