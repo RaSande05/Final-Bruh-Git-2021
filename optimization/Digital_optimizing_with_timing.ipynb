{
  "nbformat": 4,
  "nbformat_minor": 0,
  "metadata": {
    "colab": {
      "name": "Digital_optimizing_with_timing.ipynb",
      "provenance": [],
      "collapsed_sections": []
    },
    "kernelspec": {
      "name": "python3",
      "display_name": "Python 3"
    },
    "language_info": {
      "name": "python"
    }
  },
  "cells": [
    {
      "cell_type": "markdown",
      "metadata": {
        "id": "ZNvjCLiZ-BnD"
      },
      "source": [
        "Первым делом надо сделать установку **ortools**. Сделать это достаточно просто, нужно просто раскомментировать строчку ниже и запустить ее. После ее отработки, скорее всего, понадобится перезапустить ноутбук. **Среда выполнения -> Перезапустить среду выполнения.(или Ctrl+M)**"
      ]
    },
    {
      "cell_type": "code",
      "metadata": {
        "id": "F4hpvAj-mEIA"
      },
      "source": [
        "# !pip install ortools"
      ],
      "execution_count": 257,
      "outputs": []
    },
    {
      "cell_type": "code",
      "metadata": {
        "id": "of8TQijggqtj"
      },
      "source": [
        "from ortools.constraint_solver import routing_enums_pb2\n",
        "from ortools.constraint_solver import pywrapcp\n"
      ],
      "execution_count": 258,
      "outputs": []
    },
    {
      "cell_type": "code",
      "metadata": {
        "id": "TZzwL23kHrLo"
      },
      "source": [
        "# Cоздаем класс Plan для более удобной работы с результатом отработки OR-Tools\n",
        "class Plan:\n",
        "  def __init__(self):\n",
        "    self.path = []\n",
        "    self.load = None\n",
        "    self.output = {}\n",
        "    self.times = []\n",
        "    self.output['path'] = []\n",
        "    "
      ],
      "execution_count": 259,
      "outputs": []
    },
    {
      "cell_type": "code",
      "metadata": {
        "id": "8JC1QPftnsoe"
      },
      "source": [
        "# В этой ячейке надо здать координаты расположения камеры\n",
        "almtvsk_cams_coords = [(54.848387, 52.253091), #отправная точка автотранспорта, выбрана случайно)\n",
        "                     (54.902532, 52.289729), # 0 - Белоглазова 131\n",
        "                     (54.900249, 52.287286), # 1 - Белоглазова 151\n",
        "                     (54.905891, 52.270927), # 3 - Гафиатуллина 29Б\n",
        "                     (54.906383, 52.266427), # 4 - улица Гафиатуллина, 39\n",
        "                     (54.905829, 52.264387), # 5 - улица Гафиатуллина, 45\n",
        "                     (54.906518, 52.263822), # 6 - улица Гафиатуллина, 47\n",
        "                     (54.906518, 52.263822), # 7 - улица Гафиатуллина, 47\n",
        "                     (54.900078, 52.290205), # 10 - улица Ленина, 66\n",
        "                     (54.898670, 52.285722), # 11 - улица Ленина, 90\n",
        "                     (54.896071, 52.288390), # 12 - улица Шевченко, 80\n",
        "                     (54.900777, 52.267460), # 14 - проспект Строителей, 20Б\n",
        "                     (54.902294, 52.270047), # 15 - проспект Строителей, 20(тут фото с камеры обрезано, мб это не тот дом)\n",
        "]"
      ],
      "execution_count": 260,
      "outputs": []
    },
    {
      "cell_type": "code",
      "metadata": {
        "id": "3xCg0vcwE8fg"
      },
      "source": [
        "# В этой ячейке надо задать временные характеристики\n",
        "import numpy as np\n",
        "data = {}\n",
        "time_matrix = [ # Время поездки между узлами\n",
        "        [0, 6,   9,   8,   7,  3,    6,  2,  3,    2,   6,    6,   4],\n",
        "        [6, 0,   8,   3,   2,  6,    8,  4,  8,    8,  13,    7,  5,],\n",
        "        [9, 8,   0,  11,  10,  6,    3,  9,  5,    8,   4,   15,  14],\n",
        "        [8, 3,  11,   0,   1,  7,   10,  6,  10,  10,  14,    6,   7],\n",
        "        [7, 2,  10,   1,   0,  6,    9,  4,  8,    9,  13,    4,   6],\n",
        "        [3, 6,   6,   7,   6,  0,    2,  3,  2,    2,   7,    9,   7],\n",
        "        [6, 8,   3,  10,   9,  2,    0,  6,  2,    5,   4,   12,  10],\n",
        "        [2, 4,   9,   6,   4,  3,    6,  0,  4,    4,   8,    5,   4],\n",
        "        [3, 8,   5,  10,   8,  2,    2,  4,  0,    3,   4,    9,   8],\n",
        "        [2, 8,   8,  10,   9,  2,    5,  4,  3,    0,   4,    6,   5],\n",
        "        [6, 13,  4,  14,  13,  7,    4,  8,  4,    4,   0,   10,   9],\n",
        "        [6, 7,  15,   6,  4,   9,   12,  5,  9,    6,  10,    0,   1],\n",
        "        [4, 5,  14,   7,  6,   7,   10,  4,  8,    5,   9,    1,   0],\n",
        "    ]\n",
        "\n",
        "time_windows = [ # Время, когда мы можем заехать на конкретную точку\n",
        "        (0, 100),  # depot\n",
        "        (7, 12),  # 1\n",
        "        (10, 15),  # 2\n",
        "        (16, 18),  # 3\n",
        "        (10, 13),  # 4\n",
        "        (0, 5),  # 5\n",
        "        (5, 10),  # 6\n",
        "        (0, 4),  # 7\n",
        "        (5, 10),  # 8\n",
        "        (0, 3),  # 9\n",
        "        (10, 16),  # 10\n",
        "        (10, 15),  # 11\n",
        "        (0, 5),  # 12\n",
        "    ]"
      ],
      "execution_count": 261,
      "outputs": []
    },
    {
      "cell_type": "code",
      "metadata": {
        "id": "po8Ztc2ktrgB"
      },
      "source": [
        "# Задаем кол-во(в у.е, по-нашему, тут задается оценочное значение в литрах или в кг) мусора на точке\n",
        "# В MVP данный массив является результатом работы сетки\n",
        "almtvsk_demands = [0,2,5,3,6,8,4,9,5,7,3,6,9]"
      ],
      "execution_count": 262,
      "outputs": []
    },
    {
      "cell_type": "code",
      "metadata": {
        "colab": {
          "base_uri": "https://localhost:8080/"
        },
        "id": "0uzepgfGtTMZ",
        "outputId": "4f3a3d87-9470-4b46-dd03-9268fece0383"
      },
      "source": [
        "# Задаем входные данные\n",
        "almtvsk_data = {} # пустой словарик\n",
        "almtvsk_data['num_vehicles'] = 4 # кол-во автомобилей в автопарке\n",
        "almtvsk_data['depot'] = 0 # номер точки, из которой мы стартуем\n",
        "almtvsk_data['demands'] = almtvsk_demands # кол-во мусора на точках\n",
        "almtvsk_data['vehicle_capacities'] = [20, 20, 20, 20] # вместимость автомобилей(в тех же у.е., что и demands)\n",
        "almtvsk_data['time_matrix'] = time_matrix # Время поездки между узлами\n",
        "almtvsk_data['time_windows'] = time_windows # Время, когда мы можем заехать на конкретную точку\n",
        "almtvsk_data # отображаем"
      ],
      "execution_count": 263,
      "outputs": [
        {
          "output_type": "execute_result",
          "data": {
            "text/plain": [
              "{'demands': [0, 2, 5, 3, 6, 8, 4, 9, 5, 7, 3, 6, 9],\n",
              " 'depot': 0,\n",
              " 'num_vehicles': 4,\n",
              " 'time_matrix': [[0, 6, 9, 8, 7, 3, 6, 2, 3, 2, 6, 6, 4],\n",
              "  [6, 0, 8, 3, 2, 6, 8, 4, 8, 8, 13, 7, 5],\n",
              "  [9, 8, 0, 11, 10, 6, 3, 9, 5, 8, 4, 15, 14],\n",
              "  [8, 3, 11, 0, 1, 7, 10, 6, 10, 10, 14, 6, 7],\n",
              "  [7, 2, 10, 1, 0, 6, 9, 4, 8, 9, 13, 4, 6],\n",
              "  [3, 6, 6, 7, 6, 0, 2, 3, 2, 2, 7, 9, 7],\n",
              "  [6, 8, 3, 10, 9, 2, 0, 6, 2, 5, 4, 12, 10],\n",
              "  [2, 4, 9, 6, 4, 3, 6, 0, 4, 4, 8, 5, 4],\n",
              "  [3, 8, 5, 10, 8, 2, 2, 4, 0, 3, 4, 9, 8],\n",
              "  [2, 8, 8, 10, 9, 2, 5, 4, 3, 0, 4, 6, 5],\n",
              "  [6, 13, 4, 14, 13, 7, 4, 8, 4, 4, 0, 10, 9],\n",
              "  [6, 7, 15, 6, 4, 9, 12, 5, 9, 6, 10, 0, 1],\n",
              "  [4, 5, 14, 7, 6, 7, 10, 4, 8, 5, 9, 1, 0]],\n",
              " 'time_windows': [(0, 100),\n",
              "  (7, 12),\n",
              "  (10, 15),\n",
              "  (16, 18),\n",
              "  (10, 13),\n",
              "  (0, 5),\n",
              "  (5, 10),\n",
              "  (0, 4),\n",
              "  (5, 10),\n",
              "  (0, 3),\n",
              "  (10, 16),\n",
              "  (10, 15),\n",
              "  (0, 5)],\n",
              " 'vehicle_capacities': [20, 20, 20, 20]}"
            ]
          },
          "metadata": {},
          "execution_count": 263
        }
      ]
    },
    {
      "cell_type": "code",
      "metadata": {
        "id": "tw0PIXvSOnFR"
      },
      "source": [
        "# Функция отображения полученного решения\n",
        "def print_solution(almtvsk_data, manager, routing, solution):\n",
        "    \"\"\"Prints solution on console.\"\"\"\n",
        "    print(f'Objective: {solution.ObjectiveValue()}')\n",
        "    # Display dropped nodes.\n",
        "    dropped_nodes = 'Dropped nodes:'\n",
        "    for node in range(routing.Size()):\n",
        "        if routing.IsStart(node) or routing.IsEnd(node):\n",
        "            continue\n",
        "        if solution.Value(routing.NextVar(node)) == node:\n",
        "            dropped_nodes += ' {}'.format(manager.IndexToNode(node))\n",
        "    print(dropped_nodes)\n",
        "    total_distance = 0\n",
        "    total_load = 0\n",
        "    time_dimension = routing.GetDimensionOrDie('Time')\n",
        "    total_time = 0\n",
        "    all_plans = []\n",
        "    output_constants = ['lat', 'lon']\n",
        "    for vehicle_id in range(almtvsk_data['num_vehicles']):\n",
        "        plan = Plan()\n",
        "        index = routing.Start(vehicle_id)\n",
        "        plan_output = 'Route for vehicle {}:\\n'.format(vehicle_id)\n",
        "        route_load = 0\n",
        "        while not routing.IsEnd(index):\n",
        "            time_var = time_dimension.CumulVar(index)\n",
        "            node_index = manager.IndexToNode(index)\n",
        "            route_load += almtvsk_data['demands'][node_index]\n",
        "            plan_output += ' {0} <Load({1}) || Time({2},{3})> -> '.format(node_index, route_load, solution.Min(time_var),\n",
        "                solution.Max(time_var))\n",
        "            plan.path.append((node_index, route_load))\n",
        "            plan.output['path'].append({output_constants[i]: almtvsk_cams_coords[node_index][i] for i in (0,1)})\n",
        "            previous_index = index\n",
        "            index = solution.Value(routing.NextVar(index))\n",
        "        time_var = time_dimension.CumulVar(index)\n",
        "        plan_output += ' {0} <Load({1}) || Time({2},{3})>\\n'.format(manager.IndexToNode(index),\n",
        "                                                 route_load,\n",
        "                                                    solution.Min(time_var),\n",
        "                                                    solution.Max(time_var))\n",
        "        plan_output += 'Load of the route: {}\\n'.format(route_load)\n",
        "        plan_output += 'Time of the route: {}min\\n'.format(\n",
        "            solution.Min(time_var))\n",
        "        print(plan_output)\n",
        "        plan.path.append((manager.IndexToNode(index), route_load))\n",
        "        plan.output['path'].append({output_constants[i]: almtvsk_cams_coords[manager.IndexToNode(index)][i] for i in (0,1)})\n",
        "        plan.load = route_load\n",
        "        all_plans.append(plan)\n",
        "        for i,res in enumerate(all_plans):\n",
        "          all_plans[i].output['path'] = str(res.output['path']).replace('},',\"};\").replace(']',\"\").replace('[',\"\").replace(\" \",\"\")\n",
        "        total_load += route_load\n",
        "        total_time += solution.Min(time_var)\n",
        "    print('Total load of all routes: {}'.format(total_load))\n",
        "    print('Total time of all routes: {}min'.format(total_time))\n",
        "    return all_plans"
      ],
      "execution_count": 264,
      "outputs": []
    },
    {
      "cell_type": "code",
      "metadata": {
        "id": "vleFqqlEirE6"
      },
      "source": [
        "import numpy as np\n",
        "# Вспомогательная функция построения матрицы расстояний по вектору координат\n",
        "def form_distance_matrix(coordinates):\n",
        "    X = np.array(coordinates)\n",
        "    distance_matrix = np.zeros((len(coordinates), len(coordinates)))\n",
        "    # distance_matrix = np.sqrt(np.sum((X[:,np.newaxis]-X)**2,axis=2)) # эвклидово растояние\n",
        "    distance_matrix = np.sum(abs(X[:,np.newaxis]-X),axis=2) # Манхэтанская\n",
        "    return distance_matrix"
      ],
      "execution_count": 265,
      "outputs": []
    },
    {
      "cell_type": "code",
      "metadata": {
        "id": "mQDleQDIqaIq"
      },
      "source": [
        "# Еще одна вспомогательная функция, отображает матрицу numpy в массив массивов\n",
        "def np_to_list(arr):\n",
        "  return [[arr[i,j] for j in range(len(arr[0]))] for i in range(len(arr))]"
      ],
      "execution_count": 266,
      "outputs": []
    },
    {
      "cell_type": "code",
      "metadata": {
        "id": "7D_af2UuhOR2"
      },
      "source": [
        "# Ячейчка, в которой решается оптимизационная задача. По сути, здесь происходят \n",
        "# необходимые вызовы из OR - Tools\n",
        "def solver():\n",
        "  def demand_callback(from_index):\n",
        "    \"\"\"Returns the demand of the node.\"\"\"\n",
        "    # Convert from routing variable Index to demands NodeIndex.\n",
        "    from_node = manager.IndexToNode(from_index)\n",
        "    return almtvsk_data['demands'][from_node]\n",
        "\n",
        "  def distance_callback(from_index, to_index):\n",
        "    \"\"\"Returns the distance between the two nodes.\"\"\"\n",
        "    # Convert from routing variable Index to distance matrix NodeIndex.\n",
        "    from_node = manager.IndexToNode(from_index)\n",
        "    to_node = manager.IndexToNode(to_index)\n",
        "    return almtvsk_data['distance_matrix'][from_node][to_node]\n",
        "\n",
        "    # Create and register a transit callback.\n",
        "  def time_callback(from_index, to_index):\n",
        "    \"\"\"Returns the travel time between the two nodes.\"\"\"\n",
        "    # Convert from routing variable Index to time matrix NodeIndex.\n",
        "    from_node = manager.IndexToNode(from_index)\n",
        "    to_node = manager.IndexToNode(to_index)\n",
        "    return almtvsk_data['time_matrix'][from_node][to_node]\n",
        "\n",
        "    # Instantiate the data problem.\n",
        "  almtvsk_data['distance_matrix'] = np_to_list(form_distance_matrix(almtvsk_cams_coords))\n",
        "\n",
        "\n",
        "    # Create the routing index manager.\n",
        "  manager = pywrapcp.RoutingIndexManager(len(almtvsk_data['distance_matrix']),\n",
        "                                           almtvsk_data['num_vehicles'], almtvsk_data['depot'])\n",
        "\n",
        "    # Create Routing Model.\n",
        "  routing = pywrapcp.RoutingModel(manager)\n",
        "\n",
        "\n",
        "    # Create and register a transit callback.\n",
        "\n",
        "  transit_callback_index = routing.RegisterTransitCallback(distance_callback)\n",
        "\n",
        "    # Define cost of each arc.\n",
        "  routing.SetArcCostEvaluatorOfAllVehicles(transit_callback_index)\n",
        "\n",
        "\n",
        "    # Add Capacity constraint.\n",
        "  demand_callback_index = routing.RegisterUnaryTransitCallback(\n",
        "        demand_callback)\n",
        "  routing.AddDimensionWithVehicleCapacity(\n",
        "        demand_callback_index,\n",
        "        0,  # null capacity slack\n",
        "        almtvsk_data['vehicle_capacities'],  # vehicle maximum capacities\n",
        "        True,  # start cumul to zero\n",
        "        'Capacity')\n",
        "\n",
        "  transit_callback_index = routing.RegisterTransitCallback(time_callback)\n",
        "\n",
        "    # Define cost of each arc.\n",
        "  routing.SetArcCostEvaluatorOfAllVehicles(transit_callback_index)\n",
        "\n",
        "    # Add Time Windows constraint.\n",
        "  time = 'Time'\n",
        "  routing.AddDimension(\n",
        "      transit_callback_index,\n",
        "      30,  # allow waiting time\n",
        "      30,  # maximum time per vehicle\n",
        "        False,  # Don't force start cumul to zero.\n",
        "        time)\n",
        "  time_dimension = routing.GetDimensionOrDie(time)\n",
        "  # Add time window constraints for each location except depot.\n",
        "  for location_idx, time_window in enumerate(almtvsk_data['time_windows']):\n",
        "      if location_idx == almtvsk_data['depot']:\n",
        "          continue\n",
        "      index = manager.NodeToIndex(location_idx)\n",
        "      time_dimension.CumulVar(index).SetRange(time_window[0], time_window[1])\n",
        "  # Add time window constraints for each vehicle start node.\n",
        "  depot_idx = almtvsk_data['depot']\n",
        "  for vehicle_id in range(almtvsk_data['num_vehicles']):\n",
        "      index = routing.Start(vehicle_id)\n",
        "      time_dimension.CumulVar(index).SetRange(\n",
        "          almtvsk_data['time_windows'][depot_idx][0],\n",
        "          almtvsk_data['time_windows'][depot_idx][1])\n",
        "\n",
        "    # Instantiate route start and end times to produce feasible times.\n",
        "  for i in range(almtvsk_data['num_vehicles']):\n",
        "      routing.AddVariableMinimizedByFinalizer(\n",
        "          time_dimension.CumulVar(routing.Start(i)))\n",
        "      routing.AddVariableMinimizedByFinalizer(\n",
        "          time_dimension.CumulVar(routing.End(i)))\n",
        "\n",
        "\n",
        "\n",
        "  # Allow to drop nodes.\n",
        "  penalty = 1000\n",
        "  for node in range(1, len(almtvsk_data['distance_matrix'])):\n",
        "      routing.AddDisjunction([manager.NodeToIndex(node)], penalty)        \n",
        "    \n",
        "    # Setting first solution heuristic.\n",
        "  search_parameters = pywrapcp.DefaultRoutingSearchParameters()\n",
        "  search_parameters.first_solution_strategy = (\n",
        "        routing_enums_pb2.FirstSolutionStrategy.PATH_CHEAPEST_ARC)\n",
        "  search_parameters.local_search_metaheuristic = (\n",
        "        routing_enums_pb2.LocalSearchMetaheuristic.GUIDED_LOCAL_SEARCH)\n",
        "  search_parameters.time_limit.FromSeconds(5)\n",
        "\n",
        "    # Solve the problem.\n",
        "  solution = routing.SolveWithParameters(search_parameters)\n",
        "\n",
        "    # Print solution on console.\n",
        "  if solution:\n",
        "      return print_solution(almtvsk_data, manager, routing, solution)\n",
        "\n",
        "  else:\n",
        "    print(\"No solution found\")"
      ],
      "execution_count": 267,
      "outputs": []
    },
    {
      "cell_type": "markdown",
      "metadata": {
        "id": "LnF-qSXQiokd"
      },
      "source": [
        "Sample text"
      ]
    },
    {
      "cell_type": "code",
      "metadata": {
        "colab": {
          "base_uri": "https://localhost:8080/"
        },
        "id": "Z8dGP8wKuMOF",
        "outputId": "0093f3dc-4663-4b61-c9bd-a19cc07225e8"
      },
      "source": [
        "# Решаем задачу\n",
        "almtvsk_result = solver()\n"
      ],
      "execution_count": 268,
      "outputs": [
        {
          "output_type": "stream",
          "name": "stdout",
          "text": [
            "Objective: 53\n",
            "Dropped nodes:\n",
            "Route for vehicle 0:\n",
            " 0 <Load(0) || Time(0,0)> ->  8 <Load(5) || Time(5,5)> ->  6 <Load(9) || Time(7,7)> ->  2 <Load(14) || Time(10,10)> ->  10 <Load(17) || Time(14,14)> ->  0 <Load(17) || Time(20,20)>\n",
            "Load of the route: 17\n",
            "Time of the route: 20min\n",
            "\n",
            "Route for vehicle 1:\n",
            " 0 <Load(0) || Time(0,0)> ->  12 <Load(9) || Time(4,5)> ->  11 <Load(15) || Time(10,10)> ->  0 <Load(15) || Time(16,16)>\n",
            "Load of the route: 15\n",
            "Time of the route: 16min\n",
            "\n",
            "Route for vehicle 2:\n",
            " 0 <Load(0) || Time(0,0)> ->  7 <Load(9) || Time(2,4)> ->  1 <Load(11) || Time(7,11)> ->  4 <Load(17) || Time(10,13)> ->  3 <Load(20) || Time(16,16)> ->  0 <Load(20) || Time(24,24)>\n",
            "Load of the route: 20\n",
            "Time of the route: 24min\n",
            "\n",
            "Route for vehicle 3:\n",
            " 0 <Load(0) || Time(0,0)> ->  9 <Load(7) || Time(2,2)> ->  5 <Load(15) || Time(4,4)> ->  0 <Load(15) || Time(7,7)>\n",
            "Load of the route: 15\n",
            "Time of the route: 7min\n",
            "\n",
            "Total load of all routes: 67\n",
            "Total time of all routes: 67min\n"
          ]
        }
      ]
    },
    {
      "cell_type": "code",
      "metadata": {
        "colab": {
          "base_uri": "https://localhost:8080/"
        },
        "id": "O1YgbxuTuSaX",
        "outputId": "4b8e3ca3-2a94-4e89-f60d-d5d9f8f9bf96"
      },
      "source": [
        "# Информация, которая передается в БД бота для дальнейшей обработки\n",
        "try:\n",
        "  for res in almtvsk_result:\n",
        "      print(res.output['path'])\n",
        "except TypeError:\n",
        "    pass"
      ],
      "execution_count": 269,
      "outputs": [
        {
          "output_type": "stream",
          "name": "stdout",
          "text": [
            "{'lat':54.848387,'lon':52.253091};{'lat':54.900078,'lon':52.290205};{'lat':54.906518,'lon':52.263822};{'lat':54.900249,'lon':52.287286};{'lat':54.896071,'lon':52.28839};{'lat':54.848387,'lon':52.253091}\n",
            "{'lat':54.848387,'lon':52.253091};{'lat':54.902294,'lon':52.270047};{'lat':54.900777,'lon':52.26746};{'lat':54.848387,'lon':52.253091}\n",
            "{'lat':54.848387,'lon':52.253091};{'lat':54.906518,'lon':52.263822};{'lat':54.902532,'lon':52.289729};{'lat':54.906383,'lon':52.266427};{'lat':54.905891,'lon':52.270927};{'lat':54.848387,'lon':52.253091}\n",
            "{'lat':54.848387,'lon':52.253091};{'lat':54.89867,'lon':52.285722};{'lat':54.905829,'lon':52.264387};{'lat':54.848387,'lon':52.253091}\n"
          ]
        }
      ]
    }
  ]
}